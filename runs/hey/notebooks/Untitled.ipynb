{
 "cells": [
  {
   "cell_type": "code",
   "execution_count": 7,
   "metadata": {},
   "outputs": [],
   "source": [
    "import pandas as pd"
   ]
  },
  {
   "cell_type": "code",
   "execution_count": 2,
   "metadata": {},
   "outputs": [
    {
     "name": "stdout",
     "output_type": "stream",
     "text": [
      "/home/paavo/go/src/go-master/runs/hey/notebooks\n"
     ]
    }
   ],
   "source": [
    "import os\n",
    "print(os.getcwd())"
   ]
  },
  {
   "cell_type": "code",
   "execution_count": 3,
   "metadata": {},
   "outputs": [],
   "source": [
    "base = \"../csv\""
   ]
  },
  {
   "cell_type": "code",
   "execution_count": 4,
   "metadata": {},
   "outputs": [],
   "source": [
    "def pst(name, df):\n",
    "    print(name, df['response-time'].mean() * 1000000, df['response-time'].std() * 1000000)"
   ]
  },
  {
   "cell_type": "code",
   "execution_count": 10,
   "metadata": {},
   "outputs": [],
   "source": [
    "def prepare_edf(op):\n",
    "    aws = pd.read_csv(base + \"/aws\" + op)\n",
    "    azure = pd.read_csv(base + \"/azure\" + op)\n",
    "    google = pd.read_csv(base + \"/google\" + op)\n",
    "    vm_parallel = pd.read_csv(base + \"/vm_parallel\" + op)\n",
    "    "
   ]
  },
  {
   "cell_type": "code",
   "execution_count": 16,
   "metadata": {},
   "outputs": [
    {
     "name": "stdout",
     "output_type": "stream",
     "text": [
      "aws\n",
      "Index(['response-time', 'DNS+dialup', 'DNS', 'Request-write', 'Response-delay',\n",
      "       'Response-read', 'status-code', 'offset'],\n",
      "      dtype='object')\n",
      "create 1399763.5999999999 875181.9972793523\n",
      "read 1660264.62 2095425.4188910823\n",
      "update 6421028.04 894402.1861046681\n",
      "delete 1379825.7200000002 1518819.1793391453\n"
     ]
    }
   ],
   "source": [
    "parse_vendor(\"/aws\")\n",
    "# parse_vendor(\"/google\")\n",
    "# parse_vendor(\"/vm_parallel\")"
   ]
  },
  {
   "cell_type": "code",
   "execution_count": 6,
   "metadata": {},
   "outputs": [],
   "source": []
  }
 ],
 "metadata": {
  "kernelspec": {
   "display_name": "PyCharm (notebooks)",
   "language": "python",
   "name": "pycharm-8433b94a"
  },
  "language_info": {
   "codemirror_mode": {
    "name": "ipython",
    "version": 3
   },
   "file_extension": ".py",
   "mimetype": "text/x-python",
   "name": "python",
   "nbconvert_exporter": "python",
   "pygments_lexer": "ipython3",
   "version": "3.8.5"
  }
 },
 "nbformat": 4,
 "nbformat_minor": 4
}
